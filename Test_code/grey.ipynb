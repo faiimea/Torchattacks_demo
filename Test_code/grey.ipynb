{
 "cells": [
  {
   "cell_type": "code",
   "execution_count": 9,
   "metadata": {},
   "outputs": [],
   "source": [
    "from PIL import Image\n",
    "import os.path\n",
    "import glob\n",
    "\n",
    "def convertjpg(jpgfile,outdir):\n",
    "    try:\n",
    "        image_file = Image.open(jpgfile) # open colour image\n",
    "        image_file = image_file.convert('L') # convert image to black and white\n",
    "        image_file.save(os.path.join(outdir, os.path.basename(jpgfile)))\n",
    "    except Exception as e:\n",
    "        print(e)\n",
    "\n",
    "for jpgfile in glob.glob(r\"FGSM_img/_0/1.png\"):    ## 所有图片存放路径 png可以改成jpg\n",
    "    # print(jpgfile)\n",
    "    convertjpg(jpgfile,r\"./FGSM_img/_0\")        ## 转换完后的保存路径\n"
   ]
  }
 ],
 "metadata": {
  "kernelspec": {
   "display_name": "pytor",
   "language": "python",
   "name": "python3"
  },
  "language_info": {
   "codemirror_mode": {
    "name": "ipython",
    "version": 3
   },
   "file_extension": ".py",
   "mimetype": "text/x-python",
   "name": "python",
   "nbconvert_exporter": "python",
   "pygments_lexer": "ipython3",
   "version": "3.7.13"
  },
  "orig_nbformat": 4,
  "vscode": {
   "interpreter": {
    "hash": "8735e5a44aaffc82247471f98e61afd3a8c083af1d83bb5f2428c9ba5da5121f"
   }
  }
 },
 "nbformat": 4,
 "nbformat_minor": 2
}
