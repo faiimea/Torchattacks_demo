{
 "cells": [
  {
   "cell_type": "markdown",
   "metadata": {},
   "source": [
    "# torchattacks demo_Imagenet data"
   ]
  },
  {
   "cell_type": "code",
   "execution_count": 2,
   "metadata": {},
   "outputs": [],
   "source": [
    "import torch\n",
    "import torchvision\n",
    "import torchvision.transforms as transforms\n",
    "import matplotlib.pyplot as plt\n",
    "import numpy as np\n",
    "import torch.nn.functional as F\n",
    "from torchvision.utils import save_image\n",
    "import torchattacks\n",
    "import os\n"
   ]
  },
  {
   "cell_type": "markdown",
   "metadata": {},
   "source": [
    "## Preprocessing"
   ]
  },
  {
   "cell_type": "markdown",
   "metadata": {},
   "source": [
    "### Load pretraiend model vgg19 from torchvision"
   ]
  },
  {
   "cell_type": "code",
   "execution_count": 3,
   "metadata": {},
   "outputs": [
    {
     "name": "stderr",
     "output_type": "stream",
     "text": [
      "c:\\Users\\19401\\anaconda3\\envs\\PRP\\lib\\site-packages\\torchvision\\models\\_utils.py:209: UserWarning: The parameter 'pretrained' is deprecated since 0.13 and will be removed in 0.15, please use 'weights' instead.\n",
      "  f\"The parameter '{pretrained_param}' is deprecated since 0.13 and will be removed in 0.15, \"\n",
      "c:\\Users\\19401\\anaconda3\\envs\\PRP\\lib\\site-packages\\torchvision\\models\\_utils.py:223: UserWarning: Arguments other than a weight enum or `None` for 'weights' are deprecated since 0.13 and will be removed in 0.15. The current behavior is equivalent to passing `weights=VGG19_Weights.IMAGENET1K_V1`. You can also use `weights=VGG19_Weights.DEFAULT` to get the most up-to-date weights.\n",
      "  warnings.warn(msg)\n"
     ]
    }
   ],
   "source": [
    "# Here is the selection: Loading from Github or local source.\n",
    "\n",
    "#model = torch.hub.load(\"pytorch/vision:v0.13.0\", \"vgg16_bn\", pretrained=True)\n",
    "model=torchvision.models.vgg19(pretrained=True)"
   ]
  },
  {
   "cell_type": "markdown",
   "metadata": {},
   "source": [
    "### Load dataset from imagenet"
   ]
  },
  {
   "cell_type": "code",
   "execution_count": 4,
   "metadata": {},
   "outputs": [],
   "source": [
    "# based on 3060\n",
    "use_cuda = True\n",
    "\n",
    "norm_mean = [0.485, 0.456, 0.406]\n",
    "norm_std = [0.229, 0.224, 0.225]\n",
    "transform = transforms.Compose(\n",
    "    [transforms.Resize((256, 256)),\n",
    "     transforms.ToTensor(),\n",
    "     transforms.Normalize(norm_mean, norm_std),\n",
    "])\n",
    "\n",
    "\n",
    "\n",
    "testset = torchvision.datasets.ImageFolder(root='../../../imagenet2012/',\n",
    "                                       transform=transform)\n",
    "testloader = torch.utils.data.DataLoader(testset, batch_size=64,\n",
    "                                         shuffle=False)\n",
    "\n",
    "\n",
    "device = torch.device(\"cuda:0\" if torch.cuda.is_available() else \"cpu\")\n",
    "\n",
    "org_img = []\n",
    "org_labels = []\n",
    "with torch.no_grad():\n",
    "    for data in testloader:\n",
    "        images, labels = data\n",
    "        org_img.append(images)\n",
    "        org_labels.append(labels)\n",
    "\n"
   ]
  },
  {
   "cell_type": "markdown",
   "metadata": {},
   "source": [
    "### Test accuracy of the model"
   ]
  },
  {
   "cell_type": "code",
   "execution_count": 18,
   "metadata": {},
   "outputs": [],
   "source": [
    "# definition of const\n",
    "# Small test\n",
    "st = 100\n",
    "# Midium test\n",
    "mt = 10\n",
    "# Large test\n",
    "lt = 20\n",
    "# Full test\n",
    "ft = 100"
   ]
  },
  {
   "cell_type": "code",
   "execution_count": 16,
   "metadata": {},
   "outputs": [],
   "source": [
    "def test_acc_new(model, testloader, test_images, n_image, save_test_images = False):\n",
    "    # n_image is the scale of test_dataset\n",
    "    # As the result of terrible consumption of memory by Imagenet, here we don't store each label, but just calculate the acc\n",
    "    correct = 0\n",
    "    total = 0\n",
    "    p_labels = []\n",
    "\n",
    "    # The final target is images -> Remeber to save the img\n",
    "    # TODO: image_save\n",
    "\n",
    "    saved_img = []\n",
    "    i = 0\n",
    "    for data in testloader:\n",
    "        images, labels = data\n",
    "        if total < n_image:\n",
    "            outputs = model(test_images[i])\n",
    "            _, predicted = torch.max(outputs.data, 1)\n",
    "            for j in labels:\n",
    "                if predicted[total%64] == j:\n",
    "                    correct += 1\n",
    "                total += 1\n",
    "            i += 1\n",
    "        else:\n",
    "            break\n",
    "    test_accuracy = (100.0 * correct / total)\n",
    "    print('Accuracy of the network on the', total, \"images is: \", test_accuracy, '%')\n",
    "    \n",
    "    if save_test_images == True:\n",
    "        return test_accuracy, p_labels, saved_img\n",
    "    else:\n",
    "        return test_accuracy, p_labels,total"
   ]
  },
  {
   "cell_type": "code",
   "execution_count": 17,
   "metadata": {},
   "outputs": [
    {
     "name": "stdout",
     "output_type": "stream",
     "text": [
      "Accuracy of the network on the 1024 images is:  88.28125 %\n"
     ]
    }
   ],
   "source": [
    "test_accuracy, vgg_labels,num = test_acc_new(model, testloader, org_img, st, False)"
   ]
  },
  {
   "cell_type": "code",
   "execution_count": null,
   "metadata": {},
   "outputs": [],
   "source": [
    "print(org_labels)\n"
   ]
  },
  {
   "cell_type": "code",
   "execution_count": 10,
   "metadata": {},
   "outputs": [
    {
     "name": "stdout",
     "output_type": "stream",
     "text": [
      "[]\n"
     ]
    }
   ],
   "source": [
    "print(vgg_labels)"
   ]
  },
  {
   "cell_type": "markdown",
   "metadata": {},
   "source": [
    "## Attack"
   ]
  },
  {
   "cell_type": "markdown",
   "metadata": {},
   "source": [
    "### Tool functions"
   ]
  },
  {
   "cell_type": "code",
   "execution_count": 11,
   "metadata": {},
   "outputs": [],
   "source": [
    "def unnormalize(img, mean = np.array(norm_mean), std = np.array(norm_std)):\n",
    "    '''\n",
    "    unnormalize the image that has been normalized with mean and std\n",
    "    '''\n",
    "    inverse_mean = - mean/std\n",
    "    inverse_std = 1/std\n",
    "    img = transforms.Normalize(mean=-mean/std, std=1/std)(img)\n",
    "    return img\n",
    "\n",
    "def imshow(img):\n",
    "    img = img / 2 + 0.5     # unnormalize\n",
    "    npimg = img.numpy()\n",
    "    plt.imshow(np.transpose(npimg, (1, 2, 0)))\n",
    "\n",
    "def ax_imshow(ax, img, label):\n",
    "    img = unnormalize(img)     # unnormalize\n",
    "    img = np.clip(img, 0., 1.)\n",
    "    ax.set_xticks([])\n",
    "    ax.set_yticks([])\n",
    "    img = np.transpose(img, (1,2,0))\n",
    "    ax.imshow(img)\n",
    "    ax.set_title(classes[label])"
   ]
  },
  {
   "cell_type": "markdown",
   "metadata": {},
   "source": [
    "### Implement torchattacks.FGSM"
   ]
  },
  {
   "cell_type": "code",
   "execution_count": 12,
   "metadata": {},
   "outputs": [],
   "source": [
    "test_loader_1=torch.utils.data.DataLoader(testset,batch_size=1,shuffle=True)\n",
    "epsilons = []\n",
    "init_eps = 0\n",
    "accuracies=[]\n",
    "step = 0.001\n",
    "n_step = 5\n"
   ]
  },
  {
   "cell_type": "code",
   "execution_count": 13,
   "metadata": {},
   "outputs": [],
   "source": [
    "# Just a single test\n",
    "epsilons=[0.001]"
   ]
  },
  {
   "cell_type": "code",
   "execution_count": null,
   "metadata": {},
   "outputs": [],
   "source": [
    "eps_times=0\n",
    "fin_image=[]\n",
    "fgsm_examples = []\n",
    "for eps in epsilons:\n",
    "    visual_examples = 5\n",
    "    fgsm_img = []\n",
    "    attack = torchattacks.FGSM(model, eps)\n",
    "    count = 0\n",
    "    for i in range(5):\n",
    "        print(i)\n",
    "        fgsm_img.append(attack(org_img[i], org_labels[i]))\n",
    "    fgsm_test_accuracy, fgsm_labels , a_images= test_acc_new(model, testloader, fgsm_img, st, True)\n",
    "    dataiter = iter(testloader)\n",
    "    images, labels = dataiter.next()\n",
    "    accuracies.append(fgsm_test_accuracy)"
   ]
  },
  {
   "cell_type": "markdown",
   "metadata": {},
   "source": [
    "### Conclusion"
   ]
  },
  {
   "cell_type": "code",
   "execution_count": null,
   "metadata": {},
   "outputs": [],
   "source": [
    "plt.figure(figsize=(5,5))\n",
    "plt.plot([0] + epsilons, [test_accuracy] + accuracies, \"*-\")\n",
    "plt.yticks(np.arange(0.0, test_accuracy, step=10))\n",
    "plt.xticks(np.arange(0.0, max(epsilons), step=max(epsilons)/5))\n",
    "plt.title(\"Accuracy vs Epsilon\")\n",
    "plt.xlabel(\"Epsilon\")\n",
    "plt.ylabel(\"Accuracy\")\n",
    "plt.show()"
   ]
  },
  {
   "cell_type": "markdown",
   "metadata": {},
   "source": [
    "Save image"
   ]
  },
  {
   "cell_type": "code",
   "execution_count": null,
   "metadata": {},
   "outputs": [],
   "source": [
    "# for i in range(len(fgsm_examples)):\n",
    "#     dir_name=os.getcwd()+'/FGSM_img/epi_%i/'%(i,)\n",
    "#     os.mkdir(dir_name)\n",
    "#     id=0\n",
    "#     for j in range(len(fgsm_examples[i])):\n",
    "#         save_image(fgsm_examples[i][j],dir_name+'_%i.png'%(id,))\n",
    "#         id+=1"
   ]
  },
  {
   "cell_type": "code",
   "execution_count": null,
   "metadata": {},
   "outputs": [],
   "source": [
    "dataiter = iter(testloader)\n",
    "images, labels = dataiter.next()\n",
    "\n",
    "# print images\n",
    "imshow(torchvision.utils.make_grid(a_images[0]))\n",
    "print('GroundTruth: ', ' '.join('%5s' % classes[labels[j]] for j in range(4)))"
   ]
  },
  {
   "cell_type": "code",
   "execution_count": null,
   "metadata": {},
   "outputs": [],
   "source": [
    "imshow(torchvision.utils.make_grid(fgsm_examples[6][1]))"
   ]
  },
  {
   "cell_type": "code",
   "execution_count": null,
   "metadata": {},
   "outputs": [],
   "source": [
    "imshow(torchvision.utils.make_grid(orig[1]))"
   ]
  }
 ],
 "metadata": {
  "kernelspec": {
   "display_name": "Python 3.7.13 ('pytor')",
   "language": "python",
   "name": "python3"
  },
  "language_info": {
   "codemirror_mode": {
    "name": "ipython",
    "version": 3
   },
   "file_extension": ".py",
   "mimetype": "text/x-python",
   "name": "python",
   "nbconvert_exporter": "python",
   "pygments_lexer": "ipython3",
   "version": "3.7.13"
  },
  "orig_nbformat": 4,
  "vscode": {
   "interpreter": {
    "hash": "8735e5a44aaffc82247471f98e61afd3a8c083af1d83bb5f2428c9ba5da5121f"
   }
  }
 },
 "nbformat": 4,
 "nbformat_minor": 2
}
